{
 "cells": [
  {
   "cell_type": "code",
   "execution_count": null,
   "id": "25af2cd1-fafd-43b2-8df9-7f31e1ee8d2a",
   "metadata": {},
   "outputs": [],
   "source": [
    "#Question 1\n",
    "\n",
    "GET Method\n",
    "Purpose: The GET method is used to retrieve data from a server. It is typically used to request data from a specified resource without causing any side effects.\n",
    "\n",
    "Characteristics:\n",
    "\n",
    "Idempotent: Multiple identical GET requests should produce the same result.\n",
    "Safe: Does not alter the state of the server.\n",
    "Parameters in URL: Data is sent as part of the URL, often in the query string (e.g., ?key1=value1&key2=value2).\n",
    "Cacheable: Responses can be cached by browsers.\n",
    "Usage:\n",
    "\n",
    "Fetching web pages or resources.\n",
    "Requesting data from APIs.\n",
    "Navigating to different pages.\n",
    "\n",
    "\n",
    "\n",
    "\n",
    "POST Method\n",
    "Purpose: The POST method is used to submit data to be processed to a specified resource. It is often used when a user submits form data or uploads a file.\n",
    "\n",
    "Characteristics:\n",
    "\n",
    "Non-idempotent: Multiple identical POST requests may have different effects.\n",
    "Not Safe: Can cause changes on the server.\n",
    "Parameters in Body: Data is sent in the body of the request, not in the URL.\n",
    "Not Cacheable: Responses are generally not cached by browsers.\n",
    "Usage:\n",
    "\n",
    "Submitting forms.\n",
    "Uploading files.\n",
    "Sending data to APIs."
   ]
  },
  {
   "cell_type": "code",
   "execution_count": null,
   "id": "077a3ed4-dc03-4f1c-8c03-9651fdfb3677",
   "metadata": {},
   "outputs": [],
   "source": [
    "#Question 2\n",
    "\n",
    "In a Flask App, we have our own Webpage (Client) and a Server. The Server should process the data. The Request, in Flask, is an object that contains all the data sent from the Client to Server. This data can be recovered using the GET/POST Methods."
   ]
  },
  {
   "cell_type": "code",
   "execution_count": null,
   "id": "a0d9bc03-33a1-4c4b-9931-620552e6b691",
   "metadata": {},
   "outputs": [],
   "source": [
    "#Question 3\n",
    "\n",
    "The redirect() function is available in the Flask class. When it is invoked, it returns a response object and redirects the user to a different target location with the provided status code."
   ]
  },
  {
   "cell_type": "code",
   "execution_count": null,
   "id": "0aa7d5c9-4597-4ed7-8719-bbd205ca6edd",
   "metadata": {},
   "outputs": [],
   "source": [
    "#Question 4\n",
    "\n"
   ]
  }
 ],
 "metadata": {
  "kernelspec": {
   "display_name": "Python 3 (ipykernel)",
   "language": "python",
   "name": "python3"
  },
  "language_info": {
   "codemirror_mode": {
    "name": "ipython",
    "version": 3
   },
   "file_extension": ".py",
   "mimetype": "text/x-python",
   "name": "python",
   "nbconvert_exporter": "python",
   "pygments_lexer": "ipython3",
   "version": "3.10.8"
  }
 },
 "nbformat": 4,
 "nbformat_minor": 5
}
